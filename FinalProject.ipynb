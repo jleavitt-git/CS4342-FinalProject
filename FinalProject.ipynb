{
 "cells": [
  {
   "cell_type": "code",
   "execution_count": 139,
   "outputs": [],
   "source": [
    "import pandas as pd\n",
    "import numpy as np\n",
    "from sklearn.decomposition import PCA\n",
    "import matplotlib.pyplot as plt\n",
    "from sklearn.model_selection import train_test_split\n",
    "from sklearn.svm import SVC\n",
    "from sklearn.metrics import accuracy_score\n",
    "from tensorflow.keras.models import Sequential\n",
    "from tensorflow.keras.layers import Dense, BatchNormalization, Dropout\n",
    "from tensorflow.keras.callbacks import EarlyStopping\n",
    "from sklearn.model_selection import train_test_split\n",
    "from sklearn.preprocessing import StandardScaler\n",
    "from sklearn.ensemble import RandomForestClassifier"
   ],
   "metadata": {
    "collapsed": false
   }
  },
  {
   "cell_type": "code",
   "execution_count": 159,
   "outputs": [],
   "source": [
    "def main():\n",
    "    data = pd.read_csv(\"train.csv\")\n",
    "    data = data.drop([\"id\"], axis=1)\n",
    "\n",
    "    data.insert(len(data.columns)-1, 'winter', data['arrival_month'].apply(lambda x: 1 if (x == 1) or (x == 2) or (x == 12) else 0))\n",
    "    data.insert(len(data.columns)-1, 'spring', data['arrival_month'].apply(lambda x: 1 if (x == 3) or (x == 4) or (x == 5) else 0))\n",
    "    data.insert(len(data.columns)-1, 'summer', data['arrival_month'].apply(lambda x: 1 if (x == 6) or (x == 7) or (x == 8) else 0))\n",
    "    data.insert(len(data.columns)-1, '2017', data['arrival_year'].apply(lambda x: 1 if (x == 2017) else 0))\n",
    "    data.insert(len(data.columns)-1, 'totalPeople', data['no_of_adults'] + data['no_of_children'])\n",
    "    #data.insert(len(data.columns)-1, 'moreChildren', data['no_of_children'].apply(lambda x: 1 if x > data['no_of_adults'] else 0))\n",
    "    data = data.drop(['arrival_month'], axis = 1)\n",
    "    data = data.drop(['arrival_year'], axis = 1)\n",
    "    print (data.head())\n",
    "    # print(data.columns)\n",
    "\n",
    "    pca = PCA(n_components=2)\n",
    "    pcaData = data.to_numpy()[:, :-1]\n",
    "    pca.fit(pcaData)\n",
    "    print(pca.explained_variance_ratio_)\n",
    "    pcaT = pca.transform(pcaData)\n",
    "    visualize(pcaT, data.booking_status)\n",
    "\n",
    "    X_train, X_test, y_train, y_test = train_test_split(pcaData, data.booking_status, test_size=0.2, shuffle=True)\n",
    "    # print(f\"{X_train.shape} : {X_test.shape} : {y_train.shape} : {y_test.shape}\")\n",
    "    scaler = StandardScaler()\n",
    "    scaler.fit(X_train)\n",
    "    X_train = scaler.transform(X_train)\n",
    "    X_test = scaler.transform(X_test)\n",
    "\n",
    "    #shallow_model(X_train, X_test, y_train, y_test)\n",
    "\n",
    "    # data.plot(kind ='box',subplots = True,sharex= False,sharey=False,figsize=(15,15))\n",
    "    # plt.show()\n",
    "\n",
    "    deepModel(X_train, X_test, y_train, y_test)"
   ],
   "metadata": {
    "collapsed": false
   }
  },
  {
   "cell_type": "code",
   "execution_count": 154,
   "outputs": [],
   "source": [
    "def deepModel(X_train, X_test, y_train, y_test):\n",
    "    model = Sequential()\n",
    "    model.add(Dense(19, input_shape=(20,), activation='tanh'))\n",
    "    model.add(Dropout(0.2))\n",
    "    model.add(Dense(15, activation='tanh'))\n",
    "    model.add(Dropout(0.2))\n",
    "    model.add(Dense(10, activation='tanh'))\n",
    "    model.add(Dropout(0.2))\n",
    "    model.add(Dense(5, activation='tanh'))\n",
    "    model.add(Dropout(0.1))\n",
    "    model.add(Dense(5, activation='tanh'))\n",
    "    model.add(Dropout(0.05))\n",
    "    model.add(Dense(1, activation='sigmoid'))\n",
    "\n",
    "    callback = EarlyStopping(monitor='loss', patience=3)\n",
    "    # compile the keras model\n",
    "    model.compile(loss='binary_crossentropy', optimizer='adam', metrics=['accuracy'])\n",
    "\n",
    "    # fit the keras model on the dataset\n",
    "    model.fit(X_train, y_train, epochs=200, batch_size=100, callbacks = [callback])\n",
    "\n",
    "    # evaluate the keras model\n",
    "    _, accuracy = model.evaluate(X_train, y_train)\n",
    "    _, accuracyTest = model.evaluate(X_test, y_test)\n",
    "    print(f'Train Accuracy: {accuracy}')\n",
    "    print(f'Test Accuracy: {accuracyTest}')"
   ],
   "metadata": {
    "collapsed": false
   }
  },
  {
   "cell_type": "code",
   "execution_count": 119,
   "outputs": [],
   "source": [
    "def shallow_model(X_train, X_test, y_train, y_test):\n",
    "    clf = SVC()\n",
    "    clf.fit(X_train, y_train)\n",
    "    predictions = clf.predict(X_test)\n",
    "    ac = accuracy_score(y_test, predictions)\n",
    "    train_predict = clf.predict(X_train)\n",
    "    acTrain = accuracy_score(y_train, train_predict)\n",
    "    print(f\"Train Acc: {acTrain}\")\n",
    "    print(f\"Test Acc: {ac}\")"
   ],
   "metadata": {
    "collapsed": false
   }
  },
  {
   "cell_type": "code",
   "execution_count": 120,
   "outputs": [],
   "source": [
    "def visualize(pcaT, data):\n",
    "    plt.scatter(pcaT[:, 0], pcaT[:, 1], c=data, cmap='coolwarm', alpha=0.5, s=4)\n",
    "    plt.show()"
   ],
   "metadata": {
    "collapsed": false
   }
  },
  {
   "cell_type": "code",
   "execution_count": 160,
   "outputs": [
    {
     "ename": "ValueError",
     "evalue": "The truth value of a Series is ambiguous. Use a.empty, a.bool(), a.item(), a.any() or a.all().",
     "output_type": "error",
     "traceback": [
      "\u001B[1;31m---------------------------------------------------------------------------\u001B[0m",
      "\u001B[1;31mValueError\u001B[0m                                Traceback (most recent call last)",
      "Input \u001B[1;32mIn [160]\u001B[0m, in \u001B[0;36m<cell line: 1>\u001B[1;34m()\u001B[0m\n\u001B[0;32m      1\u001B[0m \u001B[38;5;28;01mif\u001B[39;00m \u001B[38;5;18m__name__\u001B[39m \u001B[38;5;241m==\u001B[39m \u001B[38;5;124m\"\u001B[39m\u001B[38;5;124m__main__\u001B[39m\u001B[38;5;124m\"\u001B[39m:\n\u001B[1;32m----> 2\u001B[0m     \u001B[43mmain\u001B[49m\u001B[43m(\u001B[49m\u001B[43m)\u001B[49m\n",
      "Input \u001B[1;32mIn [159]\u001B[0m, in \u001B[0;36mmain\u001B[1;34m()\u001B[0m\n\u001B[0;32m      8\u001B[0m data\u001B[38;5;241m.\u001B[39minsert(\u001B[38;5;28mlen\u001B[39m(data\u001B[38;5;241m.\u001B[39mcolumns)\u001B[38;5;241m-\u001B[39m\u001B[38;5;241m1\u001B[39m, \u001B[38;5;124m'\u001B[39m\u001B[38;5;124m2017\u001B[39m\u001B[38;5;124m'\u001B[39m, data[\u001B[38;5;124m'\u001B[39m\u001B[38;5;124marrival_year\u001B[39m\u001B[38;5;124m'\u001B[39m]\u001B[38;5;241m.\u001B[39mapply(\u001B[38;5;28;01mlambda\u001B[39;00m x: \u001B[38;5;241m1\u001B[39m \u001B[38;5;28;01mif\u001B[39;00m (x \u001B[38;5;241m==\u001B[39m \u001B[38;5;241m2017\u001B[39m) \u001B[38;5;28;01melse\u001B[39;00m \u001B[38;5;241m0\u001B[39m))\n\u001B[0;32m      9\u001B[0m data\u001B[38;5;241m.\u001B[39minsert(\u001B[38;5;28mlen\u001B[39m(data\u001B[38;5;241m.\u001B[39mcolumns)\u001B[38;5;241m-\u001B[39m\u001B[38;5;241m1\u001B[39m, \u001B[38;5;124m'\u001B[39m\u001B[38;5;124mtotalPeople\u001B[39m\u001B[38;5;124m'\u001B[39m, data[\u001B[38;5;124m'\u001B[39m\u001B[38;5;124mno_of_adults\u001B[39m\u001B[38;5;124m'\u001B[39m] \u001B[38;5;241m+\u001B[39m data[\u001B[38;5;124m'\u001B[39m\u001B[38;5;124mno_of_children\u001B[39m\u001B[38;5;124m'\u001B[39m])\n\u001B[1;32m---> 10\u001B[0m data\u001B[38;5;241m.\u001B[39minsert(\u001B[38;5;28mlen\u001B[39m(data\u001B[38;5;241m.\u001B[39mcolumns)\u001B[38;5;241m-\u001B[39m\u001B[38;5;241m1\u001B[39m, \u001B[38;5;124m'\u001B[39m\u001B[38;5;124mmoreChildren\u001B[39m\u001B[38;5;124m'\u001B[39m, \u001B[43mdata\u001B[49m\u001B[43m[\u001B[49m\u001B[38;5;124;43m'\u001B[39;49m\u001B[38;5;124;43mno_of_children\u001B[39;49m\u001B[38;5;124;43m'\u001B[39;49m\u001B[43m]\u001B[49m\u001B[38;5;241;43m.\u001B[39;49m\u001B[43mapply\u001B[49m\u001B[43m(\u001B[49m\u001B[38;5;28;43;01mlambda\u001B[39;49;00m\u001B[43m \u001B[49m\u001B[43mx\u001B[49m\u001B[43m:\u001B[49m\u001B[43m \u001B[49m\u001B[38;5;241;43m1\u001B[39;49m\u001B[43m \u001B[49m\u001B[38;5;28;43;01mif\u001B[39;49;00m\u001B[43m \u001B[49m\u001B[43mx\u001B[49m\u001B[43m \u001B[49m\u001B[38;5;241;43m>\u001B[39;49m\u001B[43m \u001B[49m\u001B[43mdata\u001B[49m\u001B[43m[\u001B[49m\u001B[38;5;124;43m'\u001B[39;49m\u001B[38;5;124;43mno_of_adults\u001B[39;49m\u001B[38;5;124;43m'\u001B[39;49m\u001B[43m]\u001B[49m\u001B[43m \u001B[49m\u001B[38;5;28;43;01melse\u001B[39;49;00m\u001B[43m \u001B[49m\u001B[38;5;241;43m0\u001B[39;49m\u001B[43m)\u001B[49m)\n\u001B[0;32m     11\u001B[0m data \u001B[38;5;241m=\u001B[39m data\u001B[38;5;241m.\u001B[39mdrop([\u001B[38;5;124m'\u001B[39m\u001B[38;5;124marrival_month\u001B[39m\u001B[38;5;124m'\u001B[39m], axis \u001B[38;5;241m=\u001B[39m \u001B[38;5;241m1\u001B[39m)\n\u001B[0;32m     12\u001B[0m data \u001B[38;5;241m=\u001B[39m data\u001B[38;5;241m.\u001B[39mdrop([\u001B[38;5;124m'\u001B[39m\u001B[38;5;124marrival_year\u001B[39m\u001B[38;5;124m'\u001B[39m], axis \u001B[38;5;241m=\u001B[39m \u001B[38;5;241m1\u001B[39m)\n",
      "File \u001B[1;32m~\\anaconda3\\lib\\site-packages\\pandas\\core\\series.py:4433\u001B[0m, in \u001B[0;36mSeries.apply\u001B[1;34m(self, func, convert_dtype, args, **kwargs)\u001B[0m\n\u001B[0;32m   4323\u001B[0m \u001B[38;5;28;01mdef\u001B[39;00m \u001B[38;5;21mapply\u001B[39m(\n\u001B[0;32m   4324\u001B[0m     \u001B[38;5;28mself\u001B[39m,\n\u001B[0;32m   4325\u001B[0m     func: AggFuncType,\n\u001B[1;32m   (...)\u001B[0m\n\u001B[0;32m   4328\u001B[0m     \u001B[38;5;241m*\u001B[39m\u001B[38;5;241m*\u001B[39mkwargs,\n\u001B[0;32m   4329\u001B[0m ) \u001B[38;5;241m-\u001B[39m\u001B[38;5;241m>\u001B[39m DataFrame \u001B[38;5;241m|\u001B[39m Series:\n\u001B[0;32m   4330\u001B[0m     \u001B[38;5;124;03m\"\"\"\u001B[39;00m\n\u001B[0;32m   4331\u001B[0m \u001B[38;5;124;03m    Invoke function on values of Series.\u001B[39;00m\n\u001B[0;32m   4332\u001B[0m \n\u001B[1;32m   (...)\u001B[0m\n\u001B[0;32m   4431\u001B[0m \u001B[38;5;124;03m    dtype: float64\u001B[39;00m\n\u001B[0;32m   4432\u001B[0m \u001B[38;5;124;03m    \"\"\"\u001B[39;00m\n\u001B[1;32m-> 4433\u001B[0m     \u001B[38;5;28;01mreturn\u001B[39;00m \u001B[43mSeriesApply\u001B[49m\u001B[43m(\u001B[49m\u001B[38;5;28;43mself\u001B[39;49m\u001B[43m,\u001B[49m\u001B[43m \u001B[49m\u001B[43mfunc\u001B[49m\u001B[43m,\u001B[49m\u001B[43m \u001B[49m\u001B[43mconvert_dtype\u001B[49m\u001B[43m,\u001B[49m\u001B[43m \u001B[49m\u001B[43margs\u001B[49m\u001B[43m,\u001B[49m\u001B[43m \u001B[49m\u001B[43mkwargs\u001B[49m\u001B[43m)\u001B[49m\u001B[38;5;241;43m.\u001B[39;49m\u001B[43mapply\u001B[49m\u001B[43m(\u001B[49m\u001B[43m)\u001B[49m\n",
      "File \u001B[1;32m~\\anaconda3\\lib\\site-packages\\pandas\\core\\apply.py:1082\u001B[0m, in \u001B[0;36mSeriesApply.apply\u001B[1;34m(self)\u001B[0m\n\u001B[0;32m   1078\u001B[0m \u001B[38;5;28;01mif\u001B[39;00m \u001B[38;5;28misinstance\u001B[39m(\u001B[38;5;28mself\u001B[39m\u001B[38;5;241m.\u001B[39mf, \u001B[38;5;28mstr\u001B[39m):\n\u001B[0;32m   1079\u001B[0m     \u001B[38;5;66;03m# if we are a string, try to dispatch\u001B[39;00m\n\u001B[0;32m   1080\u001B[0m     \u001B[38;5;28;01mreturn\u001B[39;00m \u001B[38;5;28mself\u001B[39m\u001B[38;5;241m.\u001B[39mapply_str()\n\u001B[1;32m-> 1082\u001B[0m \u001B[38;5;28;01mreturn\u001B[39;00m \u001B[38;5;28;43mself\u001B[39;49m\u001B[38;5;241;43m.\u001B[39;49m\u001B[43mapply_standard\u001B[49m\u001B[43m(\u001B[49m\u001B[43m)\u001B[49m\n",
      "File \u001B[1;32m~\\anaconda3\\lib\\site-packages\\pandas\\core\\apply.py:1137\u001B[0m, in \u001B[0;36mSeriesApply.apply_standard\u001B[1;34m(self)\u001B[0m\n\u001B[0;32m   1131\u001B[0m         values \u001B[38;5;241m=\u001B[39m obj\u001B[38;5;241m.\u001B[39mastype(\u001B[38;5;28mobject\u001B[39m)\u001B[38;5;241m.\u001B[39m_values\n\u001B[0;32m   1132\u001B[0m         \u001B[38;5;66;03m# error: Argument 2 to \"map_infer\" has incompatible type\u001B[39;00m\n\u001B[0;32m   1133\u001B[0m         \u001B[38;5;66;03m# \"Union[Callable[..., Any], str, List[Union[Callable[..., Any], str]],\u001B[39;00m\n\u001B[0;32m   1134\u001B[0m         \u001B[38;5;66;03m# Dict[Hashable, Union[Union[Callable[..., Any], str],\u001B[39;00m\n\u001B[0;32m   1135\u001B[0m         \u001B[38;5;66;03m# List[Union[Callable[..., Any], str]]]]]\"; expected\u001B[39;00m\n\u001B[0;32m   1136\u001B[0m         \u001B[38;5;66;03m# \"Callable[[Any], Any]\"\u001B[39;00m\n\u001B[1;32m-> 1137\u001B[0m         mapped \u001B[38;5;241m=\u001B[39m \u001B[43mlib\u001B[49m\u001B[38;5;241;43m.\u001B[39;49m\u001B[43mmap_infer\u001B[49m\u001B[43m(\u001B[49m\n\u001B[0;32m   1138\u001B[0m \u001B[43m            \u001B[49m\u001B[43mvalues\u001B[49m\u001B[43m,\u001B[49m\n\u001B[0;32m   1139\u001B[0m \u001B[43m            \u001B[49m\u001B[43mf\u001B[49m\u001B[43m,\u001B[49m\u001B[43m  \u001B[49m\u001B[38;5;66;43;03m# type: ignore[arg-type]\u001B[39;49;00m\n\u001B[0;32m   1140\u001B[0m \u001B[43m            \u001B[49m\u001B[43mconvert\u001B[49m\u001B[38;5;241;43m=\u001B[39;49m\u001B[38;5;28;43mself\u001B[39;49m\u001B[38;5;241;43m.\u001B[39;49m\u001B[43mconvert_dtype\u001B[49m\u001B[43m,\u001B[49m\n\u001B[0;32m   1141\u001B[0m \u001B[43m        \u001B[49m\u001B[43m)\u001B[49m\n\u001B[0;32m   1143\u001B[0m \u001B[38;5;28;01mif\u001B[39;00m \u001B[38;5;28mlen\u001B[39m(mapped) \u001B[38;5;129;01mand\u001B[39;00m \u001B[38;5;28misinstance\u001B[39m(mapped[\u001B[38;5;241m0\u001B[39m], ABCSeries):\n\u001B[0;32m   1144\u001B[0m     \u001B[38;5;66;03m# GH#43986 Need to do list(mapped) in order to get treated as nested\u001B[39;00m\n\u001B[0;32m   1145\u001B[0m     \u001B[38;5;66;03m#  See also GH#25959 regarding EA support\u001B[39;00m\n\u001B[0;32m   1146\u001B[0m     \u001B[38;5;28;01mreturn\u001B[39;00m obj\u001B[38;5;241m.\u001B[39m_constructor_expanddim(\u001B[38;5;28mlist\u001B[39m(mapped), index\u001B[38;5;241m=\u001B[39mobj\u001B[38;5;241m.\u001B[39mindex)\n",
      "File \u001B[1;32m~\\anaconda3\\lib\\site-packages\\pandas\\_libs\\lib.pyx:2870\u001B[0m, in \u001B[0;36mpandas._libs.lib.map_infer\u001B[1;34m()\u001B[0m\n",
      "Input \u001B[1;32mIn [159]\u001B[0m, in \u001B[0;36mmain.<locals>.<lambda>\u001B[1;34m(x)\u001B[0m\n\u001B[0;32m      8\u001B[0m data\u001B[38;5;241m.\u001B[39minsert(\u001B[38;5;28mlen\u001B[39m(data\u001B[38;5;241m.\u001B[39mcolumns)\u001B[38;5;241m-\u001B[39m\u001B[38;5;241m1\u001B[39m, \u001B[38;5;124m'\u001B[39m\u001B[38;5;124m2017\u001B[39m\u001B[38;5;124m'\u001B[39m, data[\u001B[38;5;124m'\u001B[39m\u001B[38;5;124marrival_year\u001B[39m\u001B[38;5;124m'\u001B[39m]\u001B[38;5;241m.\u001B[39mapply(\u001B[38;5;28;01mlambda\u001B[39;00m x: \u001B[38;5;241m1\u001B[39m \u001B[38;5;28;01mif\u001B[39;00m (x \u001B[38;5;241m==\u001B[39m \u001B[38;5;241m2017\u001B[39m) \u001B[38;5;28;01melse\u001B[39;00m \u001B[38;5;241m0\u001B[39m))\n\u001B[0;32m      9\u001B[0m data\u001B[38;5;241m.\u001B[39minsert(\u001B[38;5;28mlen\u001B[39m(data\u001B[38;5;241m.\u001B[39mcolumns)\u001B[38;5;241m-\u001B[39m\u001B[38;5;241m1\u001B[39m, \u001B[38;5;124m'\u001B[39m\u001B[38;5;124mtotalPeople\u001B[39m\u001B[38;5;124m'\u001B[39m, data[\u001B[38;5;124m'\u001B[39m\u001B[38;5;124mno_of_adults\u001B[39m\u001B[38;5;124m'\u001B[39m] \u001B[38;5;241m+\u001B[39m data[\u001B[38;5;124m'\u001B[39m\u001B[38;5;124mno_of_children\u001B[39m\u001B[38;5;124m'\u001B[39m])\n\u001B[1;32m---> 10\u001B[0m data\u001B[38;5;241m.\u001B[39minsert(\u001B[38;5;28mlen\u001B[39m(data\u001B[38;5;241m.\u001B[39mcolumns)\u001B[38;5;241m-\u001B[39m\u001B[38;5;241m1\u001B[39m, \u001B[38;5;124m'\u001B[39m\u001B[38;5;124mmoreChildren\u001B[39m\u001B[38;5;124m'\u001B[39m, data[\u001B[38;5;124m'\u001B[39m\u001B[38;5;124mno_of_children\u001B[39m\u001B[38;5;124m'\u001B[39m]\u001B[38;5;241m.\u001B[39mapply(\u001B[38;5;28;01mlambda\u001B[39;00m x: \u001B[38;5;241m1\u001B[39m \u001B[38;5;28;01mif\u001B[39;00m \u001B[43mx\u001B[49m\u001B[43m \u001B[49m\u001B[38;5;241;43m>\u001B[39;49m\u001B[43m \u001B[49m\u001B[43mdata\u001B[49m\u001B[43m[\u001B[49m\u001B[38;5;124;43m'\u001B[39;49m\u001B[38;5;124;43mno_of_adults\u001B[39;49m\u001B[38;5;124;43m'\u001B[39;49m\u001B[43m]\u001B[49m \u001B[38;5;28;01melse\u001B[39;00m \u001B[38;5;241m0\u001B[39m))\n\u001B[0;32m     11\u001B[0m data \u001B[38;5;241m=\u001B[39m data\u001B[38;5;241m.\u001B[39mdrop([\u001B[38;5;124m'\u001B[39m\u001B[38;5;124marrival_month\u001B[39m\u001B[38;5;124m'\u001B[39m], axis \u001B[38;5;241m=\u001B[39m \u001B[38;5;241m1\u001B[39m)\n\u001B[0;32m     12\u001B[0m data \u001B[38;5;241m=\u001B[39m data\u001B[38;5;241m.\u001B[39mdrop([\u001B[38;5;124m'\u001B[39m\u001B[38;5;124marrival_year\u001B[39m\u001B[38;5;124m'\u001B[39m], axis \u001B[38;5;241m=\u001B[39m \u001B[38;5;241m1\u001B[39m)\n",
      "File \u001B[1;32m~\\anaconda3\\lib\\site-packages\\pandas\\core\\generic.py:1527\u001B[0m, in \u001B[0;36mNDFrame.__nonzero__\u001B[1;34m(self)\u001B[0m\n\u001B[0;32m   1525\u001B[0m \u001B[38;5;129m@final\u001B[39m\n\u001B[0;32m   1526\u001B[0m \u001B[38;5;28;01mdef\u001B[39;00m \u001B[38;5;21m__nonzero__\u001B[39m(\u001B[38;5;28mself\u001B[39m):\n\u001B[1;32m-> 1527\u001B[0m     \u001B[38;5;28;01mraise\u001B[39;00m \u001B[38;5;167;01mValueError\u001B[39;00m(\n\u001B[0;32m   1528\u001B[0m         \u001B[38;5;124mf\u001B[39m\u001B[38;5;124m\"\u001B[39m\u001B[38;5;124mThe truth value of a \u001B[39m\u001B[38;5;132;01m{\u001B[39;00m\u001B[38;5;28mtype\u001B[39m(\u001B[38;5;28mself\u001B[39m)\u001B[38;5;241m.\u001B[39m\u001B[38;5;18m__name__\u001B[39m\u001B[38;5;132;01m}\u001B[39;00m\u001B[38;5;124m is ambiguous. \u001B[39m\u001B[38;5;124m\"\u001B[39m\n\u001B[0;32m   1529\u001B[0m         \u001B[38;5;124m\"\u001B[39m\u001B[38;5;124mUse a.empty, a.bool(), a.item(), a.any() or a.all().\u001B[39m\u001B[38;5;124m\"\u001B[39m\n\u001B[0;32m   1530\u001B[0m     )\n",
      "\u001B[1;31mValueError\u001B[0m: The truth value of a Series is ambiguous. Use a.empty, a.bool(), a.item(), a.any() or a.all()."
     ]
    }
   ],
   "source": [
    "if __name__ == \"__main__\":\n",
    "    main()"
   ],
   "metadata": {
    "collapsed": false
   }
  }
 ],
 "metadata": {
  "kernelspec": {
   "display_name": "Python 3",
   "language": "python",
   "name": "python3"
  },
  "language_info": {
   "codemirror_mode": {
    "name": "ipython",
    "version": 2
   },
   "file_extension": ".py",
   "mimetype": "text/x-python",
   "name": "python",
   "nbconvert_exporter": "python",
   "pygments_lexer": "ipython2",
   "version": "2.7.6"
  }
 },
 "nbformat": 4,
 "nbformat_minor": 0
}
